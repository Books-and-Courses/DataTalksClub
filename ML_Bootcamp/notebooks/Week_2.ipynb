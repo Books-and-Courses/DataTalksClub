{
 "cells": [
  {
   "cell_type": "code",
   "execution_count": 1,
   "id": "fb0f0ec8-3267-473a-ab9e-a97119d5dae9",
   "metadata": {},
   "outputs": [],
   "source": [
    "import pandas as pd\n",
    "from pandas.testing import assert_frame_equal\n",
    "import numpy as np\n",
    "from sklearn.linear_model import LinearRegression\n",
    "import matplotlib.pyplot as plt\n",
    "import seaborn as sns\n",
    "import missingno"
   ]
  },
  {
   "cell_type": "code",
   "execution_count": 2,
   "id": "5bef90c8-6072-4540-bc21-2e911e7b537a",
   "metadata": {},
   "outputs": [],
   "source": [
    "df = pd.read_csv(\"../data/laptops.csv\")"
   ]
  },
  {
   "cell_type": "code",
   "execution_count": 3,
   "id": "854bb544-5b8c-4174-b93a-3e154a76d1be",
   "metadata": {},
   "outputs": [
    {
     "data": {
      "text/html": [
       "<div>\n",
       "<style scoped>\n",
       "    .dataframe tbody tr th:only-of-type {\n",
       "        vertical-align: middle;\n",
       "    }\n",
       "\n",
       "    .dataframe tbody tr th {\n",
       "        vertical-align: top;\n",
       "    }\n",
       "\n",
       "    .dataframe thead th {\n",
       "        text-align: right;\n",
       "    }\n",
       "</style>\n",
       "<table border=\"1\" class=\"dataframe\">\n",
       "  <thead>\n",
       "    <tr style=\"text-align: right;\">\n",
       "      <th></th>\n",
       "      <th>Laptop</th>\n",
       "      <th>Status</th>\n",
       "      <th>Brand</th>\n",
       "      <th>Model</th>\n",
       "      <th>CPU</th>\n",
       "      <th>RAM</th>\n",
       "      <th>Storage</th>\n",
       "      <th>Storage type</th>\n",
       "      <th>GPU</th>\n",
       "      <th>Screen</th>\n",
       "      <th>Touch</th>\n",
       "      <th>Final Price</th>\n",
       "    </tr>\n",
       "  </thead>\n",
       "  <tbody>\n",
       "    <tr>\n",
       "      <th>0</th>\n",
       "      <td>ASUS ExpertBook B1 B1502CBA-EJ0436X Intel Core...</td>\n",
       "      <td>New</td>\n",
       "      <td>Asus</td>\n",
       "      <td>ExpertBook</td>\n",
       "      <td>Intel Core i5</td>\n",
       "      <td>8</td>\n",
       "      <td>512</td>\n",
       "      <td>SSD</td>\n",
       "      <td>NaN</td>\n",
       "      <td>15.6</td>\n",
       "      <td>No</td>\n",
       "      <td>1009.0</td>\n",
       "    </tr>\n",
       "    <tr>\n",
       "      <th>1</th>\n",
       "      <td>Alurin Go Start Intel Celeron N4020/8GB/256GB ...</td>\n",
       "      <td>New</td>\n",
       "      <td>Alurin</td>\n",
       "      <td>Go</td>\n",
       "      <td>Intel Celeron</td>\n",
       "      <td>8</td>\n",
       "      <td>256</td>\n",
       "      <td>SSD</td>\n",
       "      <td>NaN</td>\n",
       "      <td>15.6</td>\n",
       "      <td>No</td>\n",
       "      <td>299.0</td>\n",
       "    </tr>\n",
       "  </tbody>\n",
       "</table>\n",
       "</div>"
      ],
      "text/plain": [
       "                                              Laptop Status   Brand  \\\n",
       "0  ASUS ExpertBook B1 B1502CBA-EJ0436X Intel Core...    New    Asus   \n",
       "1  Alurin Go Start Intel Celeron N4020/8GB/256GB ...    New  Alurin   \n",
       "\n",
       "        Model            CPU  RAM  Storage Storage type  GPU  Screen Touch  \\\n",
       "0  ExpertBook  Intel Core i5    8      512          SSD  NaN    15.6    No   \n",
       "1          Go  Intel Celeron    8      256          SSD  NaN    15.6    No   \n",
       "\n",
       "   Final Price  \n",
       "0       1009.0  \n",
       "1        299.0  "
      ]
     },
     "execution_count": 3,
     "metadata": {},
     "output_type": "execute_result"
    }
   ],
   "source": [
    "df.head(2)"
   ]
  },
  {
   "cell_type": "code",
   "execution_count": 4,
   "id": "ec08ce13-b555-4b29-9645-b18a2bd7e0fb",
   "metadata": {},
   "outputs": [
    {
     "data": {
      "text/html": [
       "<div>\n",
       "<style scoped>\n",
       "    .dataframe tbody tr th:only-of-type {\n",
       "        vertical-align: middle;\n",
       "    }\n",
       "\n",
       "    .dataframe tbody tr th {\n",
       "        vertical-align: top;\n",
       "    }\n",
       "\n",
       "    .dataframe thead th {\n",
       "        text-align: right;\n",
       "    }\n",
       "</style>\n",
       "<table border=\"1\" class=\"dataframe\">\n",
       "  <thead>\n",
       "    <tr style=\"text-align: right;\">\n",
       "      <th></th>\n",
       "      <th>RAM</th>\n",
       "      <th>Storage</th>\n",
       "      <th>Screen</th>\n",
       "      <th>Final Price</th>\n",
       "    </tr>\n",
       "  </thead>\n",
       "  <tbody>\n",
       "    <tr>\n",
       "      <th>0</th>\n",
       "      <td>8</td>\n",
       "      <td>512</td>\n",
       "      <td>15.6</td>\n",
       "      <td>1009.0</td>\n",
       "    </tr>\n",
       "    <tr>\n",
       "      <th>1</th>\n",
       "      <td>8</td>\n",
       "      <td>256</td>\n",
       "      <td>15.6</td>\n",
       "      <td>299.0</td>\n",
       "    </tr>\n",
       "  </tbody>\n",
       "</table>\n",
       "</div>"
      ],
      "text/plain": [
       "   RAM  Storage  Screen  Final Price\n",
       "0    8      512    15.6       1009.0\n",
       "1    8      256    15.6        299.0"
      ]
     },
     "execution_count": 4,
     "metadata": {},
     "output_type": "execute_result"
    }
   ],
   "source": [
    "# keep only 'ram','storage','screen', and 'final_price'\n",
    "\n",
    "df = df.drop(['Laptop','Status','Brand','Model','CPU','Storage type','GPU', 'Touch'], axis=1)\n",
    "df.head(2)"
   ]
  },
  {
   "cell_type": "code",
   "execution_count": 5,
   "id": "95befe6e-b708-4b92-ac9a-9c5ba68c9aed",
   "metadata": {},
   "outputs": [],
   "source": [
    "df.columns = df.columns.str.lower().str.replace(' ', '_')"
   ]
  },
  {
   "cell_type": "markdown",
   "id": "4aa653e5-a3c3-4c85-8db7-bd882ab940b6",
   "metadata": {},
   "source": [
    "## Question 0 (asked but no seperate answer area)\n",
    "\n",
    "Look at the final_price variable. Does it have a long tail?"
   ]
  },
  {
   "cell_type": "code",
   "execution_count": 6,
   "id": "1010194b-f371-4244-a375-39fe76843a1e",
   "metadata": {},
   "outputs": [
    {
     "data": {
      "text/plain": [
       "array([[<Axes: title={'center': 'final_price'}>]], dtype=object)"
      ]
     },
     "execution_count": 6,
     "metadata": {},
     "output_type": "execute_result"
    },
    {
     "data": {
      "image/png": "[encoded data removed]",
      "text/plain": [
       "<Figure size 640x480 with 1 Axes>"
      ]
     },
     "metadata": {},
     "output_type": "display_data"
    }
   ],
   "source": [
    "df.hist('final_price', bins=50)"
   ]
  },
  {
   "cell_type": "markdown",
   "id": "f5292258-6e8e-49f4-a0cb-a61c4e9a84ba",
   "metadata": {},
   "source": [
    "## Question 1\n",
    "There's one column with missing values. What is it?\n",
    "\n",
    "#### screen"
   ]
  },
  {
   "cell_type": "code",
   "execution_count": 7,
   "id": "b1704eca-bd46-48f4-8878-22fd85325393",
   "metadata": {},
   "outputs": [
    {
     "data": {
      "image/png": "[encoded data removed]",
      "text/plain": [
       "<Figure size 500x200 with 3 Axes>"
      ]
     },
     "metadata": {},
     "output_type": "display_data"
    }
   ],
   "source": [
    "missingno.bar(df, figsize=(5,2), fontsize=12);"
   ]
  },
  {
   "cell_type": "markdown",
   "id": "c051d2b2-16c4-43cb-84fe-90d2da22cda6",
   "metadata": {},
   "source": [
    "## Question 2\n",
    "What's the median (50% percentile) for variable 'ram'?"
   ]
  },
  {
   "cell_type": "code",
   "execution_count": 8,
   "id": "3e03538e-fa96-4066-a9d6-f78b5c2a3e7b",
   "metadata": {},
   "outputs": [
    {
     "data": {
      "text/plain": [
       "np.float64(16.0)"
      ]
     },
     "execution_count": 8,
     "metadata": {},
     "output_type": "execute_result"
    }
   ],
   "source": [
    "df['ram'].median()"
   ]
  },
  {
   "cell_type": "markdown",
   "id": "79c866a4-29e5-4f7c-99ee-cb54922cae1f",
   "metadata": {},
   "source": [
    "<div class=\"alert alert-block alert-info\">\n",
    "<h4>Processing</h4> \n",
    "\n",
    "* Shuffle the dataset (the filtered one you created above), use seed 42.\n",
    "* Split your data in train/val/test sets, with 60%/20%/20% distribution.\n",
    "</div>"
   ]
  },
  {
   "cell_type": "code",
   "execution_count": 9,
   "id": "f6f49c71-e2db-493d-bc2d-a3144442f42d",
   "metadata": {},
   "outputs": [],
   "source": [
    "np.random.seed(42)"
   ]
  },
  {
   "cell_type": "code",
   "execution_count": 10,
   "id": "f02b6e5e-2016-41b3-8193-1c5738ca0fcb",
   "metadata": {},
   "outputs": [],
   "source": [
    "n = len(df)\n",
    "\n",
    "n_val = int(0.2 * n)\n",
    "n_test = int(0.2 * n)\n",
    "n_train = n - (n_val + n_test)\n",
    "\n",
    "idx = np.arange(n)\n",
    "np.random.shuffle(idx)\n",
    "\n",
    "df_shuffled = df.iloc[idx]"
   ]
  },
  {
   "cell_type": "markdown",
   "id": "ab84f744-59da-44d4-973f-ff259ea1b526",
   "metadata": {},
   "source": [
    "<div class=\"alert alert-block alert-info\">\n",
    "\n",
    "We need to deal with missing values for the column from Q1.\\\n",
    "We have two options: fill it with 0 or with the mean of this variable.\\\n",
    "Try both options. For each, train a linear regression model without regularization using the code from the lessons.\\\n",
    "For computing the mean, use the training only!\\\n",
    "Use the validation dataset to evaluate the models and compare the RMSE of each option.\\\n",
    "\n",
    "Round the RMSE scores to 2 decimal digits using round(score, 2)\n",
    "                                   \n",
    "</div>"
   ]
  },
  {
   "cell_type": "markdown",
   "id": "95c48435-a67b-4ea9-814a-b06fa0336cc7",
   "metadata": {},
   "source": [
    "Make two copies"
   ]
  },
  {
   "cell_type": "code",
   "execution_count": 11,
   "id": "db5fe271-567e-4a19-a613-178268b7819f",
   "metadata": {},
   "outputs": [],
   "source": [
    "option1 = df_shuffled.copy().fillna(0)\n",
    "# option1.loc[option1['screen'].isna()]  # confirm there are no missing numbers\n",
    "\n",
    "option1_df_train = option1.iloc[:n_train].copy()\n",
    "option1_df_val = option1.iloc[n_train:n_train+n_val].copy()\n",
    "option1_df_test = option1.iloc[n_train+n_val:].copy()"
   ]
  },
  {
   "cell_type": "code",
   "execution_count": 12,
   "id": "e7185133-52d5-4632-afaa-825143553826",
   "metadata": {},
   "outputs": [],
   "source": [
    "option2 = df_shuffled.copy().fillna(df['screen'].median())\n",
    "\n",
    "# option1.loc[option1['screen'].isna()]  # confirm there are no missing numbers\n",
    "\n",
    "option2_df_train = option2.iloc[:n_train].copy()\n",
    "option2_df_val = option2.iloc[n_train:n_train+n_val].copy()\n",
    "option2_df_test = option2.iloc[n_train+n_val:].copy()"
   ]
  },
  {
   "cell_type": "code",
   "execution_count": 13,
   "id": "5f5cd731-547d-4ff3-8609-65bda8d2c215",
   "metadata": {},
   "outputs": [
    {
     "data": {
      "text/html": [
       "<div>\n",
       "<style scoped>\n",
       "    .dataframe tbody tr th:only-of-type {\n",
       "        vertical-align: middle;\n",
       "    }\n",
       "\n",
       "    .dataframe tbody tr th {\n",
       "        vertical-align: top;\n",
       "    }\n",
       "\n",
       "    .dataframe thead tr th {\n",
       "        text-align: left;\n",
       "    }\n",
       "</style>\n",
       "<table border=\"1\" class=\"dataframe\">\n",
       "  <thead>\n",
       "    <tr>\n",
       "      <th></th>\n",
       "      <th colspan=\"2\" halign=\"left\">screen</th>\n",
       "    </tr>\n",
       "    <tr>\n",
       "      <th></th>\n",
       "      <th>self</th>\n",
       "      <th>other</th>\n",
       "    </tr>\n",
       "  </thead>\n",
       "  <tbody>\n",
       "    <tr>\n",
       "      <th>1430</th>\n",
       "      <td>0.0</td>\n",
       "      <td>15.6</td>\n",
       "    </tr>\n",
       "    <tr>\n",
       "      <th>1503</th>\n",
       "      <td>0.0</td>\n",
       "      <td>15.6</td>\n",
       "    </tr>\n",
       "    <tr>\n",
       "      <th>624</th>\n",
       "      <td>0.0</td>\n",
       "      <td>15.6</td>\n",
       "    </tr>\n",
       "    <tr>\n",
       "      <th>1548</th>\n",
       "      <td>0.0</td>\n",
       "      <td>15.6</td>\n",
       "    </tr>\n",
       "  </tbody>\n",
       "</table>\n",
       "</div>"
      ],
      "text/plain": [
       "     screen      \n",
       "       self other\n",
       "1430    0.0  15.6\n",
       "1503    0.0  15.6\n",
       "624     0.0  15.6\n",
       "1548    0.0  15.6"
      ]
     },
     "execution_count": 13,
     "metadata": {},
     "output_type": "execute_result"
    }
   ],
   "source": [
    "option1.compare(option2)"
   ]
  },
  {
   "cell_type": "markdown",
   "id": "44ac57f7-592c-4e59-8974-374b6cc71b21",
   "metadata": {},
   "source": [
    "Functions"
   ]
  },
  {
   "cell_type": "code",
   "execution_count": 14,
   "id": "00225195-a5ac-4773-8273-9bcdf9a43407",
   "metadata": {},
   "outputs": [],
   "source": [
    "def train_linear_regression(X, y):\n",
    "    ones = np.ones(X.shape[0])\n",
    "    X = np.column_stack([ones, X])\n",
    "\n",
    "    XTX = X.T.dot(X)\n",
    "    XTX_inv = np.linalg.inv(XTX)\n",
    "    w = XTX_inv.dot(X.T).dot(y)\n",
    "    \n",
    "    return w[0], w[1:]"
   ]
  },
  {
   "cell_type": "code",
   "execution_count": 15,
   "id": "4fec470a-c392-43b1-be9f-6ef79dedf646",
   "metadata": {},
   "outputs": [],
   "source": [
    "def prepare_X(df):\n",
    "    X = df.values\n",
    "    return X"
   ]
  },
  {
   "cell_type": "code",
   "execution_count": 16,
   "id": "e63a1687-86a1-4289-997a-b214a97fae9c",
   "metadata": {},
   "outputs": [],
   "source": [
    "def rmse(y, y_pred):\n",
    "    error = y_pred - y\n",
    "    mse = (error ** 2).mean()\n",
    "    return np.sqrt(mse)"
   ]
  },
  {
   "cell_type": "code",
   "execution_count": 17,
   "id": "f6e2c0fd-35c6-439a-bde2-b0e3876a19f1",
   "metadata": {},
   "outputs": [],
   "source": [
    "np.random.seed(42)\n",
    "\n",
    "n = len(df)\n",
    "\n",
    "n_val = int(0.2 * n)\n",
    "n_test = int(0.2 * n)\n",
    "n_train = n - (n_val + n_test)\n",
    "\n",
    "idx = np.arange(n)\n",
    "np.random.shuffle(idx)\n",
    "\n",
    "df_shuffled = df.iloc[idx]\n",
    "\n",
    "df_train = df_shuffled.iloc[:n_train].copy()\n",
    "df_val = df_shuffled.iloc[n_train:n_train+n_val].copy()\n",
    "df_test = df_shuffled.iloc[n_train+n_val:].copy()\n"
   ]
  },
  {
   "cell_type": "code",
   "execution_count": 18,
   "id": "0222f96f-b562-4807-b255-f2e9fed6759c",
   "metadata": {},
   "outputs": [],
   "source": [
    "# 3a - option1 the one with NaNs filled with 0s"
   ]
  },
  {
   "cell_type": "code",
   "execution_count": 19,
   "id": "b8f54830-19df-483f-812b-60829b13c3e3",
   "metadata": {},
   "outputs": [],
   "source": [
    "y_train_orig = option1_df_train.final_price\n",
    "y_val_orig = option1_df_val.final_price\n",
    "y_test_orig = option1_df_test.final_price\n",
    "\n",
    "y_train = np.log1p(option1_df_train.final_price)\n",
    "y_val = np.log1p(option1_df_val.final_price)\n",
    "y_test = np.log1p(option1_df_test.final_price)"
   ]
  },
  {
   "cell_type": "code",
   "execution_count": 20,
   "id": "c3ecc045-5b15-4fb2-9085-1c3b9c785141",
   "metadata": {},
   "outputs": [],
   "source": [
    "X_train = prepare_X(option1_df_train)\n",
    "w_0, w = train_linear_regression(X_train, y_train)"
   ]
  },
  {
   "cell_type": "code",
   "execution_count": 21,
   "id": "82b095bd-014e-49de-9804-987f2e78b668",
   "metadata": {},
   "outputs": [],
   "source": [
    "y_pred = w_0 + X_train.dot(w)"
   ]
  },
  {
   "cell_type": "code",
   "execution_count": 22,
   "id": "98e19398-6292-4949-b89e-5b0a9bd8eec0",
   "metadata": {},
   "outputs": [
    {
     "data": {
      "image/png": "[encoded data removed]",
      "text/plain": [
       "<Figure size 600x400 with 1 Axes>"
      ]
     },
     "metadata": {},
     "output_type": "display_data"
    }
   ],
   "source": [
    "plt.figure(figsize=(6, 4))\n",
    "\n",
    "sns.histplot(y_train, label='target', color='#222222', alpha=0.6, bins=40)\n",
    "sns.histplot(y_pred, label='prediction', color='#aaaaaa', alpha=0.8, bins=40)\n",
    "\n",
    "plt.legend()\n",
    "\n",
    "plt.ylabel('Frequency')\n",
    "plt.xlabel('Log(Price + 1)')\n",
    "plt.title('Predictions vs actual distribution')\n",
    "\n",
    "plt.show()"
   ]
  },
  {
   "cell_type": "code",
   "execution_count": 23,
   "id": "9adb8a05-2086-4154-a49b-6bc139e3cec6",
   "metadata": {},
   "outputs": [
    {
     "data": {
      "text/plain": [
       "np.float64(0.2391256423541011)"
      ]
     },
     "execution_count": 23,
     "metadata": {},
     "output_type": "execute_result"
    }
   ],
   "source": [
    "rmse(y_train, y_pred)"
   ]
  },
  {
   "cell_type": "code",
   "execution_count": null,
   "id": "ae895e13-e2bc-4359-9da7-b4707a23e02d",
   "metadata": {},
   "outputs": [],
   "source": []
  },
  {
   "cell_type": "code",
   "execution_count": 24,
   "id": "6c232136-c79f-40e8-88ac-04b22c76ce5c",
   "metadata": {},
   "outputs": [],
   "source": [
    "# 3b fill with mean"
   ]
  },
  {
   "cell_type": "code",
   "execution_count": 25,
   "id": "71e6c30b-57be-4646-b3e4-e116eb97b8b5",
   "metadata": {},
   "outputs": [],
   "source": [
    "y_train_orig = option2_df_train.final_price\n",
    "y_val_orig = option2_df_val.final_price\n",
    "y_test_orig = option2_df_test.final_price\n",
    "\n",
    "y_train = np.log1p(option2_df_train.final_price)\n",
    "y_val = np.log1p(option2_df_val.final_price)\n",
    "y_test = np.log1p(option2_df_test.final_price)"
   ]
  },
  {
   "cell_type": "code",
   "execution_count": null,
   "id": "5a01d8fe-da79-4584-b2bf-d6bfafb81467",
   "metadata": {},
   "outputs": [],
   "source": []
  },
  {
   "cell_type": "code",
   "execution_count": 26,
   "id": "34d788a5-a63c-41a6-b17a-bba709fbb894",
   "metadata": {},
   "outputs": [],
   "source": [
    "X_train = prepare_X(option2_df_train)\n",
    "w_0, w = train_linear_regression(X_train, y_train)"
   ]
  },
  {
   "cell_type": "code",
   "execution_count": 27,
   "id": "3aec1409-d01d-41ca-9b02-a14c7a81058b",
   "metadata": {},
   "outputs": [],
   "source": [
    "y_pred = w_0 + X_train.dot(w)"
   ]
  },
  {
   "cell_type": "code",
   "execution_count": 28,
   "id": "28f61871-4f67-4f0b-b680-6d58cb5fc670",
   "metadata": {},
   "outputs": [
    {
     "data": {
      "image/png": "[encoded data removed]",
      "text/plain": [
       "<Figure size 600x400 with 1 Axes>"
      ]
     },
     "metadata": {},
     "output_type": "display_data"
    }
   ],
   "source": [
    "plt.figure(figsize=(6, 4))\n",
    "\n",
    "sns.histplot(y_train, label='target', color='#222222', alpha=0.6, bins=40)\n",
    "sns.histplot(y_pred, label='prediction', color='#aaaaaa', alpha=0.8, bins=40)\n",
    "\n",
    "plt.legend()\n",
    "\n",
    "plt.ylabel('Frequency')\n",
    "plt.xlabel('Log(Price + 1)')\n",
    "plt.title('Predictions vs actual distribution')\n",
    "\n",
    "\n",
    "plt.show()"
   ]
  },
  {
   "cell_type": "code",
   "execution_count": null,
   "id": "9996e2ec-55ab-4df4-bf3b-70166b2e08e2",
   "metadata": {},
   "outputs": [],
   "source": []
  },
  {
   "cell_type": "code",
   "execution_count": 29,
   "id": "beae9939-cb50-4875-ba5c-de70f995e910",
   "metadata": {},
   "outputs": [
    {
     "data": {
      "text/plain": [
       "np.float64(0.2390873566592709)"
      ]
     },
     "execution_count": 29,
     "metadata": {},
     "output_type": "execute_result"
    }
   ],
   "source": [
    "rmse(y_train, y_pred)"
   ]
  },
  {
   "cell_type": "code",
   "execution_count": null,
   "id": "0c902e51-856e-410d-9c63-3282f0119d0f",
   "metadata": {},
   "outputs": [],
   "source": []
  },
  {
   "cell_type": "markdown",
   "id": "f8675d14-010b-4243-9071-df19084e696a",
   "metadata": {},
   "source": [
    "## Question 3\n",
    "\n",
    "    Which option gives better RMSE?"
   ]
  },
  {
   "cell_type": "code",
   "execution_count": null,
   "id": "9c529bb5-228c-4cfd-bef7-32cdf26c95f9",
   "metadata": {},
   "outputs": [],
   "source": [
    "It should be the median one but it really seems like they are identical which I find suspicious"
   ]
  },
  {
   "cell_type": "code",
   "execution_count": null,
   "id": "98b5cb5a-c076-47c9-a72a-644e03302ed5",
   "metadata": {},
   "outputs": [],
   "source": []
  },
  {
   "cell_type": "code",
   "execution_count": null,
   "id": "bdd985ea-fc57-430a-b8c3-36d7c2e93927",
   "metadata": {},
   "outputs": [],
   "source": []
  },
  {
   "cell_type": "code",
   "execution_count": null,
   "id": "737b9201-2f72-4af1-835c-990b9cf0eaca",
   "metadata": {},
   "outputs": [],
   "source": []
  },
  {
   "cell_type": "markdown",
   "id": "0ca54593-da25-4c5f-83a8-2df48b3e38b3",
   "metadata": {},
   "source": [
    "##  Task\n",
    "    Now let's train a regularized linear regression.\n",
    "    For this question, fill the NAs with 0.\n",
    "    Try different values of r from this list: [0, 0.01, 0.1, 1, 5, 10, 100].\n",
    "    Use RMSE to evaluate the model on the validation dataset.\n",
    "    Round the RMSE scores to M2 decimal digits.\n",
    "    Which r gives the best RMSE?\n"
   ]
  },
  {
   "cell_type": "code",
   "execution_count": null,
   "id": "73d273b0-6993-4afb-96e7-71e4351ac1ba",
   "metadata": {},
   "outputs": [],
   "source": []
  },
  {
   "cell_type": "code",
   "execution_count": null,
   "id": "6dfc7744-f124-4c95-aaaa-3e32094d7971",
   "metadata": {},
   "outputs": [],
   "source": []
  },
  {
   "cell_type": "code",
   "execution_count": null,
   "id": "3621448b-79b7-4856-addf-cfd8d7515bc9",
   "metadata": {},
   "outputs": [],
   "source": []
  },
  {
   "cell_type": "code",
   "execution_count": 30,
   "id": "795b7c34-ee40-4d87-a947-d77aa36a4881",
   "metadata": {},
   "outputs": [],
   "source": [
    "## Question 4"
   ]
  },
  {
   "cell_type": "code",
   "execution_count": null,
   "id": "0fcce9be-9ae7-4073-862a-aa720d1702f3",
   "metadata": {},
   "outputs": [],
   "source": []
  },
  {
   "cell_type": "code",
   "execution_count": null,
   "id": "4265a0fc-1911-455f-ac81-6fded52cf29e",
   "metadata": {},
   "outputs": [],
   "source": []
  },
  {
   "cell_type": "code",
   "execution_count": null,
   "id": "95d929b6-f44c-4e00-9e48-4877cb0ee4e9",
   "metadata": {},
   "outputs": [],
   "source": []
  },
  {
   "cell_type": "markdown",
   "id": "1aa54e05-622b-438b-afcc-358898a895db",
   "metadata": {},
   "source": [
    "<div class=\"alert alert-block alert-info\">\n",
    "    \n",
    "We used seed 42 for splitting the data. Let's find out how selecting the seed influences our score.\\\n",
    "Try different seed values: [0, 1, 2, 3, 4, 5, 6, 7, 8, 9].\\\n",
    "    For each seed, do the train/validation/test split with 60%/20%/20% distribution.\\\n",
    "    Fill the missing values with 0 and train a model without regularization.\\\n",
    "    For each seed, evaluate the model on the validation dataset and collect the RMSE scores.\\\n",
    "    What's the standard deviation of all the scores? To compute the standard deviation, use np.std.\\\n",
    "    Round the result to 3 decimal digits (round(std, 3\n",
    "<div>\n"
   ]
  },
  {
   "cell_type": "code",
   "execution_count": 31,
   "id": "bfc1b296-b99f-47d9-98ec-75cb36338e11",
   "metadata": {},
   "outputs": [],
   "source": [
    "seeds = [0, 1, 2, 3, 4, 5, 6, 7, 8, 9]"
   ]
  },
  {
   "cell_type": "code",
   "execution_count": null,
   "id": "f042f1df-783a-4767-aa41-ef9530230653",
   "metadata": {},
   "outputs": [],
   "source": []
  },
  {
   "cell_type": "code",
   "execution_count": null,
   "id": "099a7c3c-6a0b-4c49-8d17-db256a6b4d8e",
   "metadata": {},
   "outputs": [],
   "source": []
  },
  {
   "cell_type": "code",
   "execution_count": null,
   "id": "dc4baa4d-7438-4929-a4ca-1336cd4194b2",
   "metadata": {},
   "outputs": [],
   "source": []
  },
  {
   "cell_type": "code",
   "execution_count": null,
   "id": "ab973c82-8df8-415c-a727-052518cdcafc",
   "metadata": {},
   "outputs": [],
   "source": []
  },
  {
   "cell_type": "code",
   "execution_count": null,
   "id": "def54a23-8c1a-4e6f-b60a-350445f97086",
   "metadata": {},
   "outputs": [],
   "source": []
  },
  {
   "cell_type": "code",
   "execution_count": null,
   "id": "576aa25f-d544-4e92-9408-eda0855eabca",
   "metadata": {},
   "outputs": [],
   "source": []
  },
  {
   "cell_type": "markdown",
   "id": "4be99cbb-2815-4182-9569-4f81f25194c9",
   "metadata": {},
   "source": [
    "## Question 5"
   ]
  },
  {
   "cell_type": "markdown",
   "id": "7ef16144-3e79-49c0-a7aa-e9bc38d22b75",
   "metadata": {},
   "source": [
    "## Question 6\n",
    "\n",
    "    Split the dataset like previously, use seed 9.\n",
    "    Combine train and validation datasets.\n",
    "    Fill the missing values with 0 and train a model with r=0.001.\n",
    "    What's the RMSE on the test dataset?\n"
   ]
  },
  {
   "cell_type": "code",
   "execution_count": null,
   "id": "9ad4ea96-c755-47cb-90c4-5c2e4923e134",
   "metadata": {},
   "outputs": [],
   "source": []
  },
  {
   "cell_type": "code",
   "execution_count": null,
   "id": "54ae1fe9-11a9-46ae-8770-baf23c805744",
   "metadata": {},
   "outputs": [],
   "source": []
  }
 ],
 "metadata": {
  "kernelspec": {
   "display_name": "Python 3 (ipykernel)",
   "language": "python",
   "name": "python3"
  },
  "language_info": {
   "codemirror_mode": {
    "name": "ipython",
    "version": 3
   },
   "file_extension": ".py",
   "mimetype": "text/x-python",
   "name": "python",
   "nbconvert_exporter": "python",
   "pygments_lexer": "ipython3",
   "version": "3.12.6"
  }
 },
 "nbformat": 4,
 "nbformat_minor": 5
}
